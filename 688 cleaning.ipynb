{
 "cells": [
  {
   "cell_type": "code",
   "execution_count": 764,
   "id": "13515d34",
   "metadata": {},
   "outputs": [],
   "source": [
    "#imports needed packages\n",
    "\n",
    "import pandas as pd\n",
    "import numpy as np"
   ]
  },
  {
   "cell_type": "code",
   "execution_count": 765,
   "id": "2178edda",
   "metadata": {},
   "outputs": [],
   "source": [
    "#sets directory\n",
    "\n",
    "path='/Users/caseycloutier/Desktop/ECO688/Raw Data'"
   ]
  },
  {
   "cell_type": "code",
   "execution_count": 766,
   "id": "6888034d",
   "metadata": {},
   "outputs": [],
   "source": [
    "#import school modality dataset \n",
    "\n",
    "modality=pd.read_stata(path+'/schools_county.dta')"
   ]
  },
  {
   "cell_type": "code",
   "execution_count": 767,
   "id": "9a320fe7",
   "metadata": {},
   "outputs": [],
   "source": [
    "#convert to integer to remove decimals\n",
    "modality['year']=modality['year'].astype(int)\n",
    "modality['month']=modality['month'].astype(int)\n",
    "\n",
    "#convert to string so they can be combined in 1 date column\n",
    "modality['year']=modality['year'].astype(str)\n",
    "modality['month']=modality['month'].astype(str)"
   ]
  },
  {
   "cell_type": "code",
   "execution_count": 768,
   "id": "10e28966",
   "metadata": {},
   "outputs": [],
   "source": [
    "#combines month and year in new variable 'date'\n",
    "\n",
    "modality['date']=modality['month']+'/'+modality['year']"
   ]
  },
  {
   "cell_type": "code",
   "execution_count": 769,
   "id": "7ac03d8c",
   "metadata": {},
   "outputs": [],
   "source": [
    "#recognize date columns as dates\n",
    "\n",
    "modality['date']=pd.to_datetime(modality['date'], errors='coerce')"
   ]
  },
  {
   "cell_type": "code",
   "execution_count": 770,
   "id": "a0b7cc51",
   "metadata": {},
   "outputs": [],
   "source": [
    "#drop rows with missing values from the dataset\n",
    "\n",
    "modality=modality.dropna()"
   ]
  },
  {
   "cell_type": "code",
   "execution_count": 771,
   "id": "15775bf3",
   "metadata": {},
   "outputs": [],
   "source": [
    "#create new variable countyname to identify county and state\n",
    "\n",
    "modality['CountyName']=modality['county_name']+', '+modality['state_abb']"
   ]
  },
  {
   "cell_type": "code",
   "execution_count": 772,
   "id": "2ac9c780",
   "metadata": {},
   "outputs": [],
   "source": [
    "#drop obs with dates that aren't present in other datasets\n",
    "\n",
    "start_date='2020-01-01'\n",
    "end_date='2021-12-01'\n",
    "\n",
    "mask=(modality['date'] >= start_date) & (modality['date'] <= end_date)\n",
    "\n",
    "modality=modality.loc[mask]"
   ]
  },
  {
   "cell_type": "code",
   "execution_count": 773,
   "id": "d2749b12",
   "metadata": {
    "scrolled": false
   },
   "outputs": [
    {
     "name": "stderr",
     "output_type": "stream",
     "text": [
      "/Applications/anaconda3/lib/python3.8/site-packages/IPython/core/interactiveshell.py:3165: DtypeWarning: Columns (0) have mixed types.Specify dtype option on import or set low_memory=False.\n",
      "  has_raised = await self.run_ast_nodes(code_ast.body, cell_name,\n"
     ]
    }
   ],
   "source": [
    "#import service employment datasets\n",
    "\n",
    "svc20=pd.read_csv(path+'/employment_industry/2020.q1-q4 102 102 Service-providing.csv')\n",
    "svc21=pd.read_csv(path+'/employment_industry/2021.q1-q4 102 102 Service-providing.csv')"
   ]
  },
  {
   "cell_type": "code",
   "execution_count": 774,
   "id": "9a0ee879",
   "metadata": {},
   "outputs": [],
   "source": [
    "svc20=svc20[['area_fips','agglvl_code','area_title','own_code','year', 'qtr','month1_emplvl', 'month2_emplvl', 'month3_emplvl']]\n",
    "\n",
    "svc20=svc20.melt(['area_fips','agglvl_code','area_title','own_code','year', 'qtr'], var_name='qtrmonth', value_name='emplvl')"
   ]
  },
  {
   "cell_type": "code",
   "execution_count": 775,
   "id": "c073e42c",
   "metadata": {},
   "outputs": [],
   "source": [
    "svc20=svc20.loc[svc20['agglvl_code'] == 72]"
   ]
  },
  {
   "cell_type": "code",
   "execution_count": 776,
   "id": "25918aa3",
   "metadata": {},
   "outputs": [],
   "source": [
    "svc20=svc20.groupby(['area_title','year','qtr','qtrmonth'])['emplvl'].sum().reset_index()"
   ]
  },
  {
   "cell_type": "code",
   "execution_count": 777,
   "id": "8c3977a0",
   "metadata": {},
   "outputs": [],
   "source": [
    "svc20['qtrmonth']=svc20['qtrmonth'].astype(str)\n",
    "svc20['qtr']=svc20['qtr'].astype(str)"
   ]
  },
  {
   "cell_type": "code",
   "execution_count": 778,
   "id": "ed5d9d04",
   "metadata": {},
   "outputs": [],
   "source": [
    "def month(svc20):    \n",
    "    if (svc20['qtr']=='1') & (svc20['qtrmonth']=='month1_emplvl'):\n",
    "        return '2020-01-01'\n",
    "    elif (svc20['qtr']=='1') & (svc20['qtrmonth']=='month2_emplvl'):\n",
    "        return '2020-02-01'\n",
    "    elif (svc20['qtr']=='1') & (svc20['qtrmonth']=='month3_emplvl'):\n",
    "        return '2020-03-01'\n",
    "    elif (svc20['qtr']=='2') & (svc20['qtrmonth']=='month1_emplvl'):\n",
    "        return '2020-04-01'\n",
    "    elif (svc20['qtr']=='2') & (svc20['qtrmonth']=='month2_emplvl'):\n",
    "        return '2020-05-01'\n",
    "    elif (svc20['qtr']=='2') & (svc20['qtrmonth']=='month3_emplvl'):\n",
    "        return '2020-06-01'\n",
    "    elif (svc20['qtr']=='3') & (svc20['qtrmonth']=='month1_emplvl'):\n",
    "        return '2020-07-01'\n",
    "    elif (svc20['qtr']=='3') & (svc20['qtrmonth']=='month2_emplvl'):\n",
    "        return '2020-08-01'\n",
    "    elif (svc20['qtr']=='3') & (svc20['qtrmonth']=='month3_emplvl'):\n",
    "        return '2020-09-01'\n",
    "    elif (svc20['qtr']=='4') & (svc20['qtrmonth']=='month1_emplvl'):\n",
    "        return '2020-10-01'\n",
    "    elif (svc20['qtr']=='4') & (svc20['qtrmonth']=='month2_emplvl'):\n",
    "        return '2020-11-01'\n",
    "    elif (svc20['qtr']=='4') & (svc20['qtrmonth']=='month3_emplvl'):\n",
    "        return '2020-12-01'"
   ]
  },
  {
   "cell_type": "code",
   "execution_count": 779,
   "id": "917bed0d",
   "metadata": {},
   "outputs": [],
   "source": [
    "svc20['month']=svc20.apply(month, axis = 1)"
   ]
  },
  {
   "cell_type": "code",
   "execution_count": 780,
   "id": "b178fdef",
   "metadata": {},
   "outputs": [],
   "source": [
    "names=svc20['area_title'].str.split(', ', expand=True)\n",
    "\n",
    "names['State']=names[1].replace({'Alabama':'AL', 'Alaska':'AK', 'Arizona':'AZ', 'Arkansas':'AR', 'California':'CA', 'Colorado':'CO', 'Connecticut':'CT', 'Delaware':'DE', 'Florida':'FL', 'Georgia':'GA', 'Hawaii':'HI', 'Idaho':'ID', 'Illinois':'IL', 'Indiana':'IN', 'Iowa':'IA', 'Kansas':'KS', 'Kentucky':'KY','Louisiana':'LA', 'Maine':'ME', 'Maryland':'MD', 'Massachusetts':'MA', 'Michigan':'MI', 'Minnesota':'MN', 'Mississippi':'MS', 'Missouri':'MO','Montana':'MT', 'Nebraska':'NE', 'Nevada':'NV', 'New Hampshire':'NH', 'New Jersey':'NJ', 'New Mexico':'NM', 'New York':'NY', 'North Carolina':'NC', 'North Dakota':'ND', 'Ohio':'OH', 'Oklahoma':'OK','Oregon':'OR','Pennsylvania':'PA','Rhode Island':'RI', 'South Carolina':'SC', 'South Dakota':'SD', 'Tennessee':'TN','Texas':'TX', 'Utah':'UT','Vermont':'VT', 'Virginia':'VA', 'Washington':'WA', 'West Virginia':'WV','Wisconsin':'WI', 'Wyoming':'WY','District of Columbia':'DC'})\n",
    "\n",
    "names['CountyName']=names[0].str[:-7]\n",
    "names['CountyName']=names['CountyName']+', '+names['State'] "
   ]
  },
  {
   "cell_type": "code",
   "execution_count": 781,
   "id": "bc44b038",
   "metadata": {},
   "outputs": [],
   "source": [
    "svc20['area_title']=names['CountyName']"
   ]
  },
  {
   "cell_type": "code",
   "execution_count": 782,
   "id": "492b2676",
   "metadata": {},
   "outputs": [],
   "source": [
    "svc20['area_title']=svc20['area_title'].replace('County', '')\n",
    "svc20['area_title']=svc20['area_title'].astype(str)"
   ]
  },
  {
   "cell_type": "code",
   "execution_count": 783,
   "id": "aac94d4d",
   "metadata": {},
   "outputs": [],
   "source": [
    "svc20=svc20[~svc20['area_title'].str.endswith('Puerto Rico')]\n",
    "svc20=svc20[~svc20['area_title'].str.endswith('Virgin Islands')]\n",
    "svc20=svc20[~svc20['area_title'].str.endswith('Guam')]"
   ]
  },
  {
   "cell_type": "code",
   "execution_count": 784,
   "id": "010c06b7",
   "metadata": {},
   "outputs": [],
   "source": [
    "svc20['area_title']=svc20['area_title'].str.upper()"
   ]
  },
  {
   "cell_type": "code",
   "execution_count": 785,
   "id": "eded2d62",
   "metadata": {},
   "outputs": [],
   "source": [
    "svc20=svc20[['area_title','month','emplvl']]"
   ]
  },
  {
   "cell_type": "code",
   "execution_count": 786,
   "id": "4c267616",
   "metadata": {},
   "outputs": [],
   "source": [
    "svc21=svc21[['area_fips','agglvl_code','area_title','own_code','year', 'qtr','month1_emplvl', 'month2_emplvl', 'month3_emplvl']]\n",
    "\n",
    "svc21=svc21.melt(['area_fips','agglvl_code','area_title','own_code','year', 'qtr'], var_name='qtrmonth', value_name='emplvl')\n",
    "\n",
    "svc21=svc21.loc[svc21['agglvl_code'] == 72]\n",
    "\n",
    "svc21=svc21.groupby(['area_title','year','qtr','qtrmonth'])['emplvl'].sum().reset_index()"
   ]
  },
  {
   "cell_type": "code",
   "execution_count": 787,
   "id": "42dfeb38",
   "metadata": {},
   "outputs": [],
   "source": [
    "svc21['qtrmonth']=svc21['qtrmonth'].astype(str)\n",
    "svc21['qtr']=svc21['qtr'].astype(str)"
   ]
  },
  {
   "cell_type": "code",
   "execution_count": 788,
   "id": "58208351",
   "metadata": {},
   "outputs": [],
   "source": [
    "def month21(svc21):    \n",
    "    if (svc21['qtr']=='1') & (svc21['qtrmonth']=='month1_emplvl'):\n",
    "        return '2021-01-01'\n",
    "    elif (svc21['qtr']=='1') & (svc21['qtrmonth']=='month2_emplvl'):\n",
    "        return '2021-02-01'\n",
    "    elif (svc21['qtr']=='1') & (svc21['qtrmonth']=='month3_emplvl'):\n",
    "        return '2021-03-01'\n",
    "    elif (svc21['qtr']=='2') & (svc21['qtrmonth']=='month1_emplvl'):\n",
    "        return '2021-04-01'\n",
    "    elif (svc21['qtr']=='2') & (svc21['qtrmonth']=='month2_emplvl'):\n",
    "        return '2021-05-01'\n",
    "    elif (svc21['qtr']=='2') & (svc21['qtrmonth']=='month3_emplvl'):\n",
    "        return '2021-06-01'\n",
    "    elif (svc21['qtr']=='3') & (svc21['qtrmonth']=='month1_emplvl'):\n",
    "        return '2021-07-01'\n",
    "    elif (svc21['qtr']=='3') & (svc21['qtrmonth']=='month2_emplvl'):\n",
    "        return '2021-08-01'\n",
    "    elif (svc21['qtr']=='3') & (svc21['qtrmonth']=='month3_emplvl'):\n",
    "        return '2021-09-01'\n",
    "    elif (svc21['qtr']=='4') & (svc21['qtrmonth']=='month1_emplvl'):\n",
    "        return '2021-10-01'\n",
    "    elif (svc21['qtr']=='4') & (svc21['qtrmonth']=='month2_emplvl'):\n",
    "        return '2021-11-01'\n",
    "    elif (svc21['qtr']=='4') & (svc21['qtrmonth']=='month3_emplvl'):\n",
    "        return '2021-12-01'"
   ]
  },
  {
   "cell_type": "code",
   "execution_count": 789,
   "id": "821f4997",
   "metadata": {},
   "outputs": [],
   "source": [
    "svc21['month']=svc21.apply(month21, axis = 1)"
   ]
  },
  {
   "cell_type": "code",
   "execution_count": 790,
   "id": "158b2b2c",
   "metadata": {},
   "outputs": [],
   "source": [
    "names=svc21['area_title'].str.split(', ', expand=True)\n",
    "\n",
    "names21['State']=names21[1].replace({'Alabama':'AL', 'Alaska':'AK', 'Arizona':'AZ', 'Arkansas':'AR', 'California':'CA', 'Colorado':'CO', 'Connecticut':'CT', 'Delaware':'DE', 'Florida':'FL', 'Georgia':'GA', 'Hawaii':'HI', 'Idaho':'ID', 'Illinois':'IL', 'Indiana':'IN', 'Iowa':'IA', 'Kansas':'KS', 'Kentucky':'KY','Louisiana':'LA', 'Maine':'ME', 'Maryland':'MD', 'Massachusetts':'MA', 'Michigan':'MI', 'Minnesota':'MN', 'Mississippi':'MS', 'Missouri':'MO','Montana':'MT', 'Nebraska':'NE', 'Nevada':'NV', 'New Hampshire':'NH', 'New Jersey':'NJ', 'New Mexico':'NM', 'New York':'NY', 'North Carolina':'NC', 'North Dakota':'ND', 'Ohio':'OH', 'Oklahoma':'OK','Oregon':'OR','Pennsylvania':'PA','Rhode Island':'RI', 'South Carolina':'SC', 'South Dakota':'SD', 'Tennessee':'TN','Texas':'TX', 'Utah':'UT','Vermont':'VT', 'Virginia':'VA', 'Washington':'WA', 'West Virginia':'WV','Wisconsin':'WI', 'Wyoming':'WY','District of Columbia':'DC'})\n",
    "\n",
    "names21['CountyName']=names21[0].str[:-7]\n",
    "names21['CountyName']=names21['CountyName']+', '+names21['State'] \n",
    "\n",
    "svc21['area_title']=names21['CountyName']\n",
    "\n",
    "svc21['area_title']=svc21['area_title'].replace('County', '')\n",
    "svc21['area_title']=svc21['area_title'].astype(str)\n",
    "\n",
    "svc21=svc21[~svc21['area_title'].str.endswith('Puerto Rico')]\n",
    "svc21=svc21[~svc21['area_title'].str.endswith('Virgin Islands')]\n",
    "svc21=svc21[~svc21['area_title'].str.endswith('Guam')]\n",
    "\n",
    "svc21['area_title']=svc21['area_title'].str.upper()"
   ]
  },
  {
   "cell_type": "code",
   "execution_count": 791,
   "id": "48df38a9",
   "metadata": {},
   "outputs": [],
   "source": [
    "svc21=svc21[~svc21['area_title'].str.endswith('Puerto Rico')]\n",
    "svc21=svc21[~svc21['area_title'].str.endswith('Virgin Islands')]\n",
    "svc21=svc21[~svc21['area_title'].str.endswith('Guam')]\n",
    "\n",
    "svc21['area_title']=svc21['area_title'].str.upper()\n",
    "\n",
    "svc21=svc21[['area_title','month','emplvl']]"
   ]
  },
  {
   "cell_type": "code",
   "execution_count": 792,
   "id": "ed32cedf",
   "metadata": {},
   "outputs": [],
   "source": [
    "svc20['area_title']=svc20['area_title'].replace(['ANCHORAGE MUNIC, AK','ALEUTIANS EAST , AK','ALEUTIANS WEST CENS, AK','BALTIMO, MD','BETHEL CENS, AK','BRISTOL BAY , AK','BRIST, VA','BUENA VIS, VA','CHARLOTTESVIL, VA','CHESAPEA, VA','COLONIAL HEIGH, VA','COVINGT, VA','DENALI , AK','DILLINGHAM CENS, AK','FAIRBANKS NORTH STAR , AK','HAINES , AK','JUNEAU CITY AND , AK','KENAI PENINSULA , AK','KETCHIKAN GATEWAY , AK','KODIAK ISLAND , AK','ALEXANDR, VA','COVINGT, VA','DANVIL, VA','FAIRF, VA','FRANKL, VA','FREDERICKSBU, VA','GAL, VA','HAMPT, VA','HARRISONBU, VA','HOPEWE, VA','LEXINGT, VA','LYNCHBU, VA','MANASS, VA','MANASSAS PA, VA','MARTINSVIL, VA','NEWPORT NE, VA','NORFO, VA','NORT, VA','PETERSBU, VA','POQUOS, VA','PORTSMOU, VA','RADFO, VA','RICHMO, VA','ROANO, VA','SAL, VA','STAUNT, VA','SUFFO, VA','VIRGINIA BEA, VA','WAYNESBO, VA','WINCHEST, VA'],['ALEUTIANS EAST, AK','ALEUTIANS WEST, AK','ANCHORAGE, AK','BALTIMORE CITY, MD','BETHEL, AK','BRISTOL BAY, AK','BRISTOL CITY, VA','BUENA VISTA CITY, VA ','CHARLOTTESVILLE CITY, VA','CHESAPEAKE CITY, VA','COLONIAL HEIGHTS CITY, VA','COVINGTON CITY, VA','DENALI, AK','DILLINGHAM, AK','FAIRBANKS NORTH STAR, AK','HAINES, AK','JUNEAU, AK','KENAI PENINSULA, AK','KETCHIKAN GATEWAY, AK','KODIAK ISLAND, AK','ALEXANDRIA CITY, VA','COVINGTON CITY, VA','DANVILLE CITY, VA','FAIRFAX CITY, VA','FRANKLIN CITY, VA','FREDERICKSBURG CITY, VA','GALAX CITY, VA','HAMPTON CITY, VA','HARRISONBURG CITY, VA','HOPEWELL CITY, VA','LEXINGTON CITY, VA','LYNCHBURG CITY, VA','MANASSAS CITY, VA','MANASSAS PARK CITY, VA','MARTINSVILLE, VA','NEWPORT NEWS CITY, VA','NORFOLK CITY, VA','NORTON CITY, VA','PETERSBURG CITY, VA','POQUOSON CITY, VA','PORTSMOUTH CITY, VA','RADFORD CITY, VA','RICHMOND CITY, VA','ROANOKE CITY, VA','SALEM CITY, VA','STAUNTON CITY, VA','SUFFOLK CITY, VA','VIRGINIA BEACH CITY, VA','WAYNESBORO CITY, VA','WINCHESTER CITY, VA'])"
   ]
  },
  {
   "cell_type": "code",
   "execution_count": 793,
   "id": "cfe78cd9",
   "metadata": {},
   "outputs": [],
   "source": [
    "svc21['area_title']=svc21['area_title'].replace(['ANCHORAGE MUNIC, AK','ALEUTIANS EAST , AK','ALEUTIANS WEST CENS, AK','BALTIMO, MD','BETHEL CENS, AK','BRISTOL BAY , AK','BRIST, VA','BUENA VIS, VA','CHARLOTTESVIL, VA','CHESAPEA, VA','COLONIAL HEIGH, VA','COVINGT, VA','DENALI , AK','DILLINGHAM CENS, AK','FAIRBANKS NORTH STAR , AK','HAINES , AK','JUNEAU CITY AND , AK','KENAI PENINSULA , AK','KETCHIKAN GATEWAY , AK','KODIAK ISLAND , AK','ALEXANDR, VA','COVINGT, VA','DANVIL, VA','FAIRF, VA','FRANKL, VA','FREDERICKSBU, VA','GAL, VA','HAMPT, VA','HARRISONBU, VA','HOPEWE, VA','LEXINGT, VA','LYNCHBU, VA','MANASS, VA','MANASSAS PA, VA','MARTINSVIL, VA','NEWPORT NE, VA','NORFO, VA','NORT, VA','PETERSBU, VA','POQUOS, VA','PORTSMOU, VA','RADFO, VA','RICHMO, VA','ROANO, VA','SAL, VA','STAUNT, VA','SUFFO, VA','VIRGINIA BEA, VA','WAYNESBO, VA','WINCHEST, VA'],['ALEUTIANS EAST, AK','ALEUTIANS WEST, AK','ANCHORAGE, AK','BALTIMORE CITY, MD','BETHEL, AK','BRISTOL BAY, AK','BRISTOL CITY, VA','BUENA VISTA CITY, VA ','CHARLOTTESVILLE CITY, VA','CHESAPEAKE CITY, VA','COLONIAL HEIGHTS CITY, VA','COVINGTON CITY, VA','DENALI, AK','DILLINGHAM, AK','FAIRBANKS NORTH STAR, AK','HAINES, AK','JUNEAU, AK','KENAI PENINSULA, AK','KETCHIKAN GATEWAY, AK','KODIAK ISLAND, AK','ALEXANDRIA CITY, VA','COVINGTON CITY, VA','DANVILLE CITY, VA','FAIRFAX CITY, VA','FRANKLIN CITY, VA','FREDERICKSBURG CITY, VA','GALAX CITY, VA','HAMPTON CITY, VA','HARRISONBURG CITY, VA','HOPEWELL CITY, VA','LEXINGTON CITY, VA','LYNCHBURG CITY, VA','MANASSAS CITY, VA','MANASSAS PARK CITY, VA','MARTINSVILLE, VA','NEWPORT NEWS CITY, VA','NORFOLK CITY, VA','NORTON CITY, VA','PETERSBURG CITY, VA','POQUOSON CITY, VA','PORTSMOUTH CITY, VA','RADFORD CITY, VA','RICHMOND CITY, VA','ROANOKE CITY, VA','SALEM CITY, VA','STAUNTON CITY, VA','SUFFOLK CITY, VA','VIRGINIA BEACH CITY, VA','WAYNESBORO CITY, VA','WINCHESTER CITY, VA'])"
   ]
  },
  {
   "cell_type": "code",
   "execution_count": 794,
   "id": "c9dcb9bd",
   "metadata": {},
   "outputs": [],
   "source": [
    "svc20=svc20[~svc20['area_title'].str.startswith('CHUGACH CENS, AK')]\n",
    "svc20=svc20[~svc20['area_title'].str.startswith('COPPER RIVER CENS, AK')]\n",
    "svc20=svc20[~svc20['area_title'].str.startswith('CRAIG, VA')]\n",
    "svc20=svc20[~svc20['area_title'].str.startswith('HOONAH-ANGOON CENS, AK')]\n",
    "svc20=svc20[~svc20['area_title'].str.startswith('KUSILVAK CENS, AK')]\n",
    "svc20=svc20[~svc20['area_title'].str.startswith('LAKE AND PENINSULA , AK')]\n",
    "svc20=svc20[~svc20['area_title'].str.startswith('MATANUSKA-SUSITNA , AK')]\n",
    "svc20=svc20[~svc20['area_title'].str.startswith('NOME CENS, AK')]\n",
    "svc20=svc20[~svc20['area_title'].str.startswith('NORTH SLOPE , AK')]\n",
    "svc20=svc20[~svc20['area_title'].str.startswith('PETERSBURG , AK')]\n",
    "svc20=svc20[~svc20['area_title'].str.startswith('PRINCE OF WALES-HYDER CENS, AK')]\n",
    "svc20=svc20[~svc20['area_title'].str.startswith('SITKA CITY AND , AK')]\n",
    "svc20=svc20[~svc20['area_title'].str.startswith('SKAGWAY MUNIC, AK')]\n",
    "svc20=svc20[~svc20['area_title'].str.startswith('SOUTHEAST FAIRBANKS CENS, AK')]\n",
    "svc20=svc20[~svc20['area_title'].str.startswith('YAKUTAT CITY AND , AK')]\n",
    "svc20=svc20[~svc20['area_title'].str.startswith('YUKON-KOYUKUK CENS, AK')]\n",
    "svc20=svc20[~svc20['area_title'].str.startswith('UNKNOWN')]"
   ]
  },
  {
   "cell_type": "code",
   "execution_count": 795,
   "id": "d67e3c86",
   "metadata": {},
   "outputs": [],
   "source": [
    "svc21=svc21[~svc21['area_title'].str.startswith('CHUGACH CENS, AK')]\n",
    "svc21=svc21[~svc21['area_title'].str.startswith('COPPER RIVER CENS, AK')]\n",
    "svc21=svc21[~svc21['area_title'].str.startswith('CRAIG, VA')]\n",
    "svc21=svc21[~svc21['area_title'].str.startswith('HOONAH-ANGOON CENS, AK')]\n",
    "svc21=svc21[~svc21['area_title'].str.startswith('KUSILVAK CENS, AK')]\n",
    "svc21=svc21[~svc21['area_title'].str.startswith('LAKE AND PENINSULA , AK')]\n",
    "svc21=svc21[~svc21['area_title'].str.startswith('MATANUSKA-SUSITNA , AK')]\n",
    "svc21=svc21[~svc21['area_title'].str.startswith('NOME CENS, AK')]\n",
    "svc21=svc21[~svc21['area_title'].str.startswith('NORTH SLOPE , AK')]\n",
    "svc21=svc21[~svc21['area_title'].str.startswith('PETERSBURG , AK')]\n",
    "svc21=svc21[~svc21['area_title'].str.startswith('PRINCE OF WALES-HYDER CENS, AK')]\n",
    "svc21=svc21[~svc21['area_title'].str.startswith('SITKA CITY AND , AK')]\n",
    "svc21=svc21[~svc21['area_title'].str.startswith('SKAGWAY MUNIC, AK')]\n",
    "svc21=svc21[~svc21['area_title'].str.startswith('SOUTHEAST FAIRBANKS CENS, AK')]\n",
    "svc21=svc21[~svc21['area_title'].str.startswith('YAKUTAT CITY AND , AK')]\n",
    "svc21=svc21[~svc21['area_title'].str.startswith('YUKON-KOYUKUK CENS, AK')]\n",
    "svc21=svc21[~svc21['area_title'].str.startswith('UNKNOWN')]"
   ]
  },
  {
   "cell_type": "code",
   "execution_count": 796,
   "id": "8e887df9",
   "metadata": {},
   "outputs": [],
   "source": [
    "frames=[svc20,svc21]\n",
    "svcemp=pd.concat(frames)"
   ]
  },
  {
   "cell_type": "code",
   "execution_count": 797,
   "id": "5fde7f62",
   "metadata": {},
   "outputs": [],
   "source": [
    "svcemp=svcemp.rename(columns={'month':'date'})\n",
    "svcemp=svcemp.sort_values(['area_title', 'date'])"
   ]
  },
  {
   "cell_type": "code",
   "execution_count": 798,
   "id": "2ea1c390",
   "metadata": {},
   "outputs": [],
   "source": [
    "modality=modality.rename(columns={'CountyName':'area_title'})"
   ]
  },
  {
   "cell_type": "code",
   "execution_count": 799,
   "id": "cb8b429d",
   "metadata": {
    "scrolled": true
   },
   "outputs": [],
   "source": [
    "modality=modality.sort_values(['area_title','date'])"
   ]
  },
  {
   "cell_type": "code",
   "execution_count": 800,
   "id": "62182a5d",
   "metadata": {},
   "outputs": [],
   "source": [
    "modality=modality[['area_title','date','number_schools', 'share_all_closed_50', 'share_all_closed_25',\n",
    "       'share_all_closed_75', 'share_elem_closed_50', 'share_elem_closed_25',\n",
    "       'share_elem_closed_75', 'share_middlehigh_closed_50',\n",
    "       'share_middlehigh_closed_25', 'share_middlehigh_closed_75',\n",
    "       'mean_all_change', 'mean_elem_change', 'mean_middlehigh_change',\n",
    "       'total_students']]"
   ]
  },
  {
   "cell_type": "code",
   "execution_count": 801,
   "id": "cb6c8a11",
   "metadata": {},
   "outputs": [],
   "source": [
    "svcemp['date']=svcemp['date'].astype(str)\n",
    "modality['date']=modality['date'].astype(str)"
   ]
  },
  {
   "cell_type": "code",
   "execution_count": 802,
   "id": "a768fe59",
   "metadata": {},
   "outputs": [],
   "source": [
    "data=pd.merge(svcemp, modality,  how='left', left_on=['date','area_title'], right_on = ['date','area_title'])"
   ]
  },
  {
   "cell_type": "code",
   "execution_count": 803,
   "id": "08ac6256",
   "metadata": {},
   "outputs": [],
   "source": [
    "controls=pd.read_csv('/Users/caseycloutier/Desktop/ECO688/Raw Data/eco400.csv')"
   ]
  },
  {
   "cell_type": "code",
   "execution_count": 804,
   "id": "d4db20f0",
   "metadata": {},
   "outputs": [],
   "source": [
    "controls=controls[['CountyName_x','Date','Year','ALWAYS','Completeness_pct','Q_GDP','trump_True','Percent_Female',\n",
    "       'Percent_Black', 'Percent_AmerInd', 'Percent_Asian', 'Percent_PacI','Percent_HisLat']]"
   ]
  },
  {
   "cell_type": "code",
   "execution_count": 805,
   "id": "c806e85d",
   "metadata": {},
   "outputs": [],
   "source": [
    "namesc=controls['CountyName_x'].str.split(', ', expand=True)\n",
    "\n",
    "namesc['State']=namesc[1]\n",
    "\n",
    "namesc['CountyName']=namesc[0].str[:-7]\n",
    "namesc['CountyName']=namesc['CountyName']+', '+namesc['State'] \n",
    "\n",
    "namesc['area_title']=namesc['CountyName']\n",
    "\n",
    "namesc['area_title']=namesc['area_title'].replace('County', '')\n",
    "namesc['area_title']=namesc['area_title'].astype(str)"
   ]
  },
  {
   "cell_type": "code",
   "execution_count": 806,
   "id": "74833c33",
   "metadata": {},
   "outputs": [],
   "source": [
    "namesc['area_title']=namesc['area_title'].str.upper()"
   ]
  },
  {
   "cell_type": "code",
   "execution_count": 807,
   "id": "2e9b2843",
   "metadata": {},
   "outputs": [],
   "source": [
    "controls['area_title']=namesc['area_title']"
   ]
  },
  {
   "cell_type": "code",
   "execution_count": 808,
   "id": "938ee75b",
   "metadata": {},
   "outputs": [],
   "source": [
    "controls['date']=controls['Date'].replace(['2020-01-31','2020-02-29','2020-03-31','2020-04-30','2020-05-31','2020-06-30','2020-07-31','2020-08-31','2020-09-30','2020-10-31','2020-11-30','2020-12-31','2021-01-31','2021-02-28','2021-03-31','2021-04-30','2021-05-31','2021-06-30','2021-07-31','2021-08-31','2021-09-30','2021-10-31','2021-11-30','2021-12-31'],['2020-01-01','2020-02-01','2020-03-01','2020-04-01','2020-05-01','2020-06-01','2020-07-01','2020-08-01','2020-09-01','2020-10-01','2020-11-01','2020-12-01','2021-01-01','2021-02-01','2021-03-01','2021-04-01','2021-05-01','2021-06-01','2021-07-01','2021-08-01','2021-09-01','2021-10-01','2021-11-01','2021-12-01'])"
   ]
  },
  {
   "cell_type": "code",
   "execution_count": 809,
   "id": "9273c50c",
   "metadata": {},
   "outputs": [],
   "source": [
    "data=pd.merge(data, controls,  how='left', left_on=['date','area_title'], right_on = ['date','area_title'])"
   ]
  },
  {
   "cell_type": "code",
   "execution_count": 810,
   "id": "64279fdd",
   "metadata": {},
   "outputs": [],
   "source": [
    "population=pd.read_excel(path+'/population.xlsx')"
   ]
  },
  {
   "cell_type": "code",
   "execution_count": 811,
   "id": "3ad617e6",
   "metadata": {},
   "outputs": [],
   "source": [
    "population['County']=population['County'].str[1:]"
   ]
  },
  {
   "cell_type": "code",
   "execution_count": 812,
   "id": "75799966",
   "metadata": {},
   "outputs": [],
   "source": [
    "population=population.melt(['County'], var_name='Year', value_name='Population')\n",
    "population=population.sort_values(['County'])"
   ]
  },
  {
   "cell_type": "code",
   "execution_count": 813,
   "id": "1d784178",
   "metadata": {},
   "outputs": [],
   "source": [
    "namespop=population['County'].str.split(', ', expand=True)\n",
    "\n",
    "namespop['State']=namespop[1]\n",
    "\n",
    "namespop['area_title']=namespop[0].str[:-7]\n",
    "namespop['State']=namespop[1].replace({'Alabama':'AL', 'Alaska':'AK', 'Arizona':'AZ', 'Arkansas':'AR', 'California':'CA', 'Colorado':'CO', 'Connecticut':'CT', 'Delaware':'DE', 'Florida':'FL', 'Georgia':'GA', 'Hawaii':'HI', 'Idaho':'ID', 'Illinois':'IL', 'Indiana':'IN', 'Iowa':'IA', 'Kansas':'KS', 'Kentucky':'KY','Louisiana':'LA', 'Maine':'ME', 'Maryland':'MD', 'Massachusetts':'MA', 'Michigan':'MI', 'Minnesota':'MN', 'Mississippi':'MS', 'Missouri':'MO','Montana':'MT', 'Nebraska':'NE', 'Nevada':'NV', 'New Hampshire':'NH', 'New Jersey':'NJ', 'New Mexico':'NM', 'New York':'NY', 'North Carolina':'NC', 'North Dakota':'ND', 'Ohio':'OH', 'Oklahoma':'OK','Oregon':'OR','Pennsylvania':'PA','Rhode Island':'RI', 'South Carolina':'SC', 'South Dakota':'SD', 'Tennessee':'TN','Texas':'TX', 'Utah':'UT','Vermont':'VT', 'Virginia':'VA', 'Washington':'WA', 'West Virginia':'WV','Wisconsin':'WI', 'Wyoming':'WY','District of Columbia':'DC'})"
   ]
  },
  {
   "cell_type": "code",
   "execution_count": 814,
   "id": "a8b6df68",
   "metadata": {},
   "outputs": [],
   "source": [
    "namespop['area_title']=namespop['area_title']+', '+namespop['State'] \n",
    "\n",
    "namespop['area_title']=namespop['area_title'].astype(str)"
   ]
  },
  {
   "cell_type": "code",
   "execution_count": 815,
   "id": "227d8199",
   "metadata": {},
   "outputs": [
    {
     "data": {
      "text/html": [
       "<div>\n",
       "<style scoped>\n",
       "    .dataframe tbody tr th:only-of-type {\n",
       "        vertical-align: middle;\n",
       "    }\n",
       "\n",
       "    .dataframe tbody tr th {\n",
       "        vertical-align: top;\n",
       "    }\n",
       "\n",
       "    .dataframe thead th {\n",
       "        text-align: right;\n",
       "    }\n",
       "</style>\n",
       "<table border=\"1\" class=\"dataframe\">\n",
       "  <thead>\n",
       "    <tr style=\"text-align: right;\">\n",
       "      <th></th>\n",
       "      <th>County</th>\n",
       "      <th>Year</th>\n",
       "      <th>Population</th>\n",
       "      <th>area_title</th>\n",
       "    </tr>\n",
       "  </thead>\n",
       "  <tbody>\n",
       "    <tr>\n",
       "      <th>2317</th>\n",
       "      <td>Abbeville County, South Carolina</td>\n",
       "      <td>2020</td>\n",
       "      <td>24212</td>\n",
       "      <td>ABBEVILLE, SC</td>\n",
       "    </tr>\n",
       "    <tr>\n",
       "      <th>5460</th>\n",
       "      <td>Abbeville County, South Carolina</td>\n",
       "      <td>2021</td>\n",
       "      <td>24299</td>\n",
       "      <td>ABBEVILLE, SC</td>\n",
       "    </tr>\n",
       "    <tr>\n",
       "      <th>1114</th>\n",
       "      <td>Acadia Parish, Louisiana</td>\n",
       "      <td>2020</td>\n",
       "      <td>57455</td>\n",
       "      <td>ACADIA, LA</td>\n",
       "    </tr>\n",
       "    <tr>\n",
       "      <th>4257</th>\n",
       "      <td>Acadia Parish, Louisiana</td>\n",
       "      <td>2021</td>\n",
       "      <td>57288</td>\n",
       "      <td>ACADIA, LA</td>\n",
       "    </tr>\n",
       "    <tr>\n",
       "      <th>2821</th>\n",
       "      <td>Accomack County, Virginia</td>\n",
       "      <td>2020</td>\n",
       "      <td>33348</td>\n",
       "      <td>ACCOMACK, VA</td>\n",
       "    </tr>\n",
       "    <tr>\n",
       "      <th>...</th>\n",
       "      <td>...</td>\n",
       "      <td>...</td>\n",
       "      <td>...</td>\n",
       "      <td>...</td>\n",
       "    </tr>\n",
       "    <tr>\n",
       "      <th>5919</th>\n",
       "      <td>Zapata County, Texas</td>\n",
       "      <td>2021</td>\n",
       "      <td>13908</td>\n",
       "      <td>ZAPATA, TX</td>\n",
       "    </tr>\n",
       "    <tr>\n",
       "      <th>2777</th>\n",
       "      <td>Zavala County, Texas</td>\n",
       "      <td>2020</td>\n",
       "      <td>9652</td>\n",
       "      <td>ZAVALA, TX</td>\n",
       "    </tr>\n",
       "    <tr>\n",
       "      <th>5920</th>\n",
       "      <td>Zavala County, Texas</td>\n",
       "      <td>2021</td>\n",
       "      <td>9534</td>\n",
       "      <td>ZAVALA, TX</td>\n",
       "    </tr>\n",
       "    <tr>\n",
       "      <th>2428</th>\n",
       "      <td>Ziebach County, South Dakota</td>\n",
       "      <td>2020</td>\n",
       "      <td>2388</td>\n",
       "      <td>ZIEBACH, SD</td>\n",
       "    </tr>\n",
       "    <tr>\n",
       "      <th>5571</th>\n",
       "      <td>Ziebach County, South Dakota</td>\n",
       "      <td>2021</td>\n",
       "      <td>2380</td>\n",
       "      <td>ZIEBACH, SD</td>\n",
       "    </tr>\n",
       "  </tbody>\n",
       "</table>\n",
       "<p>6286 rows × 4 columns</p>\n",
       "</div>"
      ],
      "text/plain": [
       "                                County  Year  Population     area_title\n",
       "2317  Abbeville County, South Carolina  2020       24212  ABBEVILLE, SC\n",
       "5460  Abbeville County, South Carolina  2021       24299  ABBEVILLE, SC\n",
       "1114          Acadia Parish, Louisiana  2020       57455     ACADIA, LA\n",
       "4257          Acadia Parish, Louisiana  2021       57288     ACADIA, LA\n",
       "2821         Accomack County, Virginia  2020       33348   ACCOMACK, VA\n",
       "...                                ...   ...         ...            ...\n",
       "5919              Zapata County, Texas  2021       13908     ZAPATA, TX\n",
       "2777              Zavala County, Texas  2020        9652     ZAVALA, TX\n",
       "5920              Zavala County, Texas  2021        9534     ZAVALA, TX\n",
       "2428      Ziebach County, South Dakota  2020        2388    ZIEBACH, SD\n",
       "5571      Ziebach County, South Dakota  2021        2380    ZIEBACH, SD\n",
       "\n",
       "[6286 rows x 4 columns]"
      ]
     },
     "execution_count": 815,
     "metadata": {},
     "output_type": "execute_result"
    }
   ],
   "source": [
    "population['area_title']=namespop['area_title'].str.upper()\n",
    "population"
   ]
  },
  {
   "cell_type": "code",
   "execution_count": 816,
   "id": "efe8bf81",
   "metadata": {},
   "outputs": [],
   "source": [
    "population=population[['area_title','Year','Population']]"
   ]
  },
  {
   "cell_type": "code",
   "execution_count": 817,
   "id": "5c57de99",
   "metadata": {},
   "outputs": [
    {
     "name": "stderr",
     "output_type": "stream",
     "text": [
      "<ipython-input-817-d250b68eb371>:1: SettingWithCopyWarning: \n",
      "A value is trying to be set on a copy of a slice from a DataFrame.\n",
      "Try using .loc[row_indexer,col_indexer] = value instead\n",
      "\n",
      "See the caveats in the documentation: https://pandas.pydata.org/pandas-docs/stable/user_guide/indexing.html#returning-a-view-versus-a-copy\n",
      "  population['area_title']=population['area_title'].replace(['ANCHORAGE MUNIC, AK','ALEUTIANS EAST , AK','ALEUTIANS WEST CENS, AK','BALTIMO, MD','BETHEL CENS, AK','BRISTOL BAY , AK','BRIST, VA','BUENA VIS, VA','CHARLOTTESVIL, VA','CHESAPEA, VA','COLONIAL HEIGH, VA','COVINGT, VA','DENALI , AK','DILLINGHAM CENS, AK','FAIRBANKS NORTH STAR , AK','HAINES , AK','JUNEAU CITY AND , AK','KENAI PENINSULA , AK','KETCHIKAN GATEWAY , AK','KODIAK ISLAND , AK','ALEXANDR, VA','COVINGT, VA','DANVIL, VA','FAIRF, VA','FRANKL, VA','FREDERICKSBU, VA','GAL, VA','HAMPT, VA','HARRISONBU, VA','HOPEWE, VA','LEXINGT, VA','LYNCHBU, VA','MANASS, VA','MANASSAS PA, VA','MARTINSVIL, VA','NEWPORT NE, VA','NORFO, VA','NORT, VA','PETERSBU, VA','POQUOS, VA','PORTSMOU, VA','RADFO, VA','RICHMO, VA','ROANO, VA','SAL, VA','STAUNT, VA','SUFFO, VA','VIRGINIA BEA, VA','WAYNESBO, VA','WINCHEST, VA'],['ALEUTIANS EAST, AK','ALEUTIANS WEST, AK','ANCHORAGE, AK','BALTIMORE CITY, MD','BETHEL, AK','BRISTOL BAY, AK','BRISTOL CITY, VA','BUENA VISTA CITY, VA ','CHARLOTTESVILLE CITY, VA','CHESAPEAKE CITY, VA','COLONIAL HEIGHTS CITY, VA','COVINGTON CITY, VA','DENALI, AK','DILLINGHAM, AK','FAIRBANKS NORTH STAR, AK','HAINES, AK','JUNEAU, AK','KENAI PENINSULA, AK','KETCHIKAN GATEWAY, AK','KODIAK ISLAND, AK','ALEXANDRIA CITY, VA','COVINGTON CITY, VA','DANVILLE CITY, VA','FAIRFAX CITY, VA','FRANKLIN CITY, VA','FREDERICKSBURG CITY, VA','GALAX CITY, VA','HAMPTON CITY, VA','HARRISONBURG CITY, VA','HOPEWELL CITY, VA','LEXINGTON CITY, VA','LYNCHBURG CITY, VA','MANASSAS CITY, VA','MANASSAS PARK CITY, VA','MARTINSVILLE, VA','NEWPORT NEWS CITY, VA','NORFOLK CITY, VA','NORTON CITY, VA','PETERSBURG CITY, VA','POQUOSON CITY, VA','PORTSMOUTH CITY, VA','RADFORD CITY, VA','RICHMOND CITY, VA','ROANOKE CITY, VA','SALEM CITY, VA','STAUNTON CITY, VA','SUFFOLK CITY, VA','VIRGINIA BEACH CITY, VA','WAYNESBORO CITY, VA','WINCHESTER CITY, VA'])\n"
     ]
    }
   ],
   "source": [
    "population['area_title']=population['area_title'].replace(['ANCHORAGE MUNIC, AK','ALEUTIANS EAST , AK','ALEUTIANS WEST CENS, AK','BALTIMO, MD','BETHEL CENS, AK','BRISTOL BAY , AK','BRIST, VA','BUENA VIS, VA','CHARLOTTESVIL, VA','CHESAPEA, VA','COLONIAL HEIGH, VA','COVINGT, VA','DENALI , AK','DILLINGHAM CENS, AK','FAIRBANKS NORTH STAR , AK','HAINES , AK','JUNEAU CITY AND , AK','KENAI PENINSULA , AK','KETCHIKAN GATEWAY , AK','KODIAK ISLAND , AK','ALEXANDR, VA','COVINGT, VA','DANVIL, VA','FAIRF, VA','FRANKL, VA','FREDERICKSBU, VA','GAL, VA','HAMPT, VA','HARRISONBU, VA','HOPEWE, VA','LEXINGT, VA','LYNCHBU, VA','MANASS, VA','MANASSAS PA, VA','MARTINSVIL, VA','NEWPORT NE, VA','NORFO, VA','NORT, VA','PETERSBU, VA','POQUOS, VA','PORTSMOU, VA','RADFO, VA','RICHMO, VA','ROANO, VA','SAL, VA','STAUNT, VA','SUFFO, VA','VIRGINIA BEA, VA','WAYNESBO, VA','WINCHEST, VA'],['ALEUTIANS EAST, AK','ALEUTIANS WEST, AK','ANCHORAGE, AK','BALTIMORE CITY, MD','BETHEL, AK','BRISTOL BAY, AK','BRISTOL CITY, VA','BUENA VISTA CITY, VA ','CHARLOTTESVILLE CITY, VA','CHESAPEAKE CITY, VA','COLONIAL HEIGHTS CITY, VA','COVINGTON CITY, VA','DENALI, AK','DILLINGHAM, AK','FAIRBANKS NORTH STAR, AK','HAINES, AK','JUNEAU, AK','KENAI PENINSULA, AK','KETCHIKAN GATEWAY, AK','KODIAK ISLAND, AK','ALEXANDRIA CITY, VA','COVINGTON CITY, VA','DANVILLE CITY, VA','FAIRFAX CITY, VA','FRANKLIN CITY, VA','FREDERICKSBURG CITY, VA','GALAX CITY, VA','HAMPTON CITY, VA','HARRISONBURG CITY, VA','HOPEWELL CITY, VA','LEXINGTON CITY, VA','LYNCHBURG CITY, VA','MANASSAS CITY, VA','MANASSAS PARK CITY, VA','MARTINSVILLE, VA','NEWPORT NEWS CITY, VA','NORFOLK CITY, VA','NORTON CITY, VA','PETERSBURG CITY, VA','POQUOSON CITY, VA','PORTSMOUTH CITY, VA','RADFORD CITY, VA','RICHMOND CITY, VA','ROANOKE CITY, VA','SALEM CITY, VA','STAUNTON CITY, VA','SUFFOLK CITY, VA','VIRGINIA BEACH CITY, VA','WAYNESBORO CITY, VA','WINCHESTER CITY, VA'])"
   ]
  },
  {
   "cell_type": "code",
   "execution_count": 818,
   "id": "3edbbb00",
   "metadata": {},
   "outputs": [],
   "source": [
    "population=population[~population['area_title'].str.startswith('CHUGACH CENS, AK')]\n",
    "population=population[~population['area_title'].str.startswith('COPPER RIVER CENS, AK')]\n",
    "population=population[~population['area_title'].str.startswith('CRAIG, VA')]\n",
    "population=population[~population['area_title'].str.startswith('HOONAH-ANGOON CENS, AK')]\n",
    "population=population[~population['area_title'].str.startswith('LAKE AND PENINSULA , AK')]\n",
    "population=population[~population['area_title'].str.startswith('MATANUSKA-SUSITNA , AK')]\n",
    "population=population[~population['area_title'].str.startswith('NOME CENS, AK')]\n",
    "population=population[~population['area_title'].str.startswith('NORTH SLOPE , AK')]\n",
    "population=population[~population['area_title'].str.startswith('PETERSBURG , AK')]\n",
    "population=population[~population['area_title'].str.startswith('PRINCE OF WALES-HYDER CENS, AK')]\n",
    "population=population[~population['area_title'].str.startswith('SOUTHEAST FAIRBANKS CENS, AK')]\n",
    "population=population[~population['area_title'].str.startswith('YAKUTAT CITY AND , AK')]\n",
    "population=population[~population['area_title'].str.startswith('YUKON-KOYUKUK CENS, AK')]"
   ]
  },
  {
   "cell_type": "code",
   "execution_count": 819,
   "id": "ead35f71",
   "metadata": {},
   "outputs": [],
   "source": [
    "data=pd.merge(data, population,  how='left', left_on=['area_title','Year'], right_on = ['area_title','Year'])"
   ]
  },
  {
   "cell_type": "code",
   "execution_count": 820,
   "id": "ca3976b2",
   "metadata": {},
   "outputs": [],
   "source": [
    "data=data[data['Population'].notna()]"
   ]
  },
  {
   "cell_type": "code",
   "execution_count": 821,
   "id": "757d5534",
   "metadata": {},
   "outputs": [],
   "source": [
    "data=data[~data['area_title'].str.endswith('NE')]\n",
    "data=data[~data['area_title'].str.endswith('SD')]\n",
    "data=data[~data['area_title'].str.endswith('UT')]\n",
    "data=data[~data['area_title'].str.endswith('MT')]\n",
    "\n",
    "data=data[~data['area_title'].str.endswith('ALCONA, MI')]\n",
    "data=data[~data['area_title'].str.endswith('AMITE, MS')]\n",
    "data=data[~data['area_title'].str.endswith('BAILEY, TX')]\n",
    "data=data[~data['area_title'].str.endswith('BAMBERG, SC')]\n",
    "data=data[~data['area_title'].str.endswith('BUTTE, ID')]\n",
    "data=data[~data['area_title'].str.endswith('CALDWELL, LA')]\n",
    "data=data[~data['area_title'].str.endswith('CARS, NV')]\n",
    "data=data[~data['area_title'].str.endswith('CARTER, MO')]\n",
    "data=data[~data['area_title'].str.endswith('CASEY, KY')]\n",
    "data=data[~data['area_title'].str.endswith('CHATTAHOOCHEE, GA')]\n",
    "data=data[~data['area_title'].str.endswith('CLEAR CREEK, CO')]\n",
    "data=data[~data['area_title'].str.endswith('CONCHO, TX')]\n",
    "data=data[~data['area_title'].str.endswith('CRAWFORD, IN')]\n",
    "data=data[~data['area_title'].str.endswith('CROCKETT, TX')]\n",
    "data=data[~data['area_title'].str.endswith('CUMBERLAND, KY')]\n",
    "data=data[~data['area_title'].str.endswith('CUSTER, CO')]\n",
    "data=data[~data['area_title'].str.endswith('DE BACA, NM')]\n",
    "data=data[~data['area_title'].str.endswith('DECATUR, TN')]\n",
    "data=data[~data['area_title'].str.endswith('ELLIOTT, KY')]\n",
    "data=data[~data['area_title'].str.endswith('EMPOR, VA')]\n",
    "data=data[~data['area_title'].str.endswith('EUREKA, NV')]\n",
    "data=data[~data['area_title'].str.endswith('FALLS CHUR, VA')]\n",
    "data=data[~data['area_title'].str.endswith('FERRY, WA')]\n",
    "data=data[~data['area_title'].str.endswith('FOSTER, ND')]\n",
    "data=data[~data['area_title'].str.endswith('GALLATIN, IL')]\n",
    "data=data[~data['area_title'].str.endswith('GILPIN, CO')]\n",
    "data=data[~data['area_title'].str.endswith('GLASCOCK, GA')]\n",
    "data=data[~data['area_title'].str.endswith('GREENLEE, AZ')]\n",
    "data=data[~data['area_title'].str.endswith('HAMILTON, FL')]\n",
    "data=data[~data['area_title'].str.endswith('HAMILTON, IL')]\n",
    "data=data[~data['area_title'].str.endswith('HANCOCK, GA')]\n",
    "data=data[~data['area_title'].str.endswith('HANCOCK, TN')]\n",
    "data=data[~data['area_title'].str.endswith('HARDIN, IL')]\n",
    "data=data[~data['area_title'].str.endswith('HARDING, NM')]\n",
    "data=data[~data['area_title'].str.endswith('HENDERSON, IL')]\n",
    "data=data[~data['area_title'].str.endswith('ISSAQUENA, MS')]\n",
    "data=data[~data['area_title'].str.endswith('JEFFERSON, MS')]\n",
    "data=data[~data['area_title'].str.endswith('JIM HOGG, TX')]\n",
    "data=data[~data['area_title'].str.endswith('JOHNSON, GA')]\n",
    "data=data[~data['area_title'].str.endswith('JONES, NC')]\n",
    "data=data[~data['area_title'].str.endswith('KENEDY, TX')]\n",
    "data=data[~data['area_title'].str.endswith('KEWEENAW, MI')]\n",
    "data=data[~data['area_title'].str.endswith('KIMBLE, TX')]\n",
    "data=data[~data['area_title'].str.endswith('LAKE OF THE WOODS, MN')]\n",
    "data=data[~data['area_title'].str.endswith('LASALLE, LA')]\n",
    "data=data[~data['area_title'].str.endswith('LEE, KY')]\n",
    "data=data[~data['area_title'].str.endswith('LEWIS, WV')]\n",
    "data=data[~data['area_title'].str.endswith('LINCOLN, KS')]\n",
    "data=data[~data['area_title'].str.endswith('LOVING, TX')]\n",
    "data=data[~data['area_title'].str.endswith('MACON, GA')]\n",
    "data=data[~data['area_title'].str.endswith('MASON, TX')]\n",
    "data=data[~data['area_title'].str.endswith('MCCORMICK, SC')]\n",
    "data=data[~data['area_title'].str.endswith('MEIGS, TN')]\n",
    "data=data[~data['area_title'].str.endswith('MENOMINEE, WI')]\n",
    "data=data[~data['area_title'].str.endswith('MILLER, GA')]\n",
    "data=data[~data['area_title'].str.endswith('MINERAL, CO')]\n",
    "data=data[~data['area_title'].str.endswith('MISSAUKEE, MI')]\n",
    "data=data[~data['area_title'].str.endswith('MONTGOMERY, GA')]\n",
    "data=data[~data['area_title'].str.endswith('MOORE, TN')]\n",
    "data=data[~data['area_title'].str.endswith('NANTUCKET, MA')]\n",
    "data=data[~data['area_title'].str.endswith('NOTTOWAY, VA')]\n",
    "data=data[~data['area_title'].str.endswith('NOXUBEE, MS')]\n",
    "data=data[~data['area_title'].str.endswith('POCAHONTAS, WV')]\n",
    "data=data[~data['area_title'].str.endswith('POPE, IL')]\n",
    "data=data[~data['area_title'].str.endswith('PRINCE EDWARD, VA')]\n",
    "data=data[~data['area_title'].str.endswith('QUITMAN, GA')]\n",
    "data=data[~data['area_title'].str.endswith('QUITMAN, MS')]\n",
    "data=data[~data['area_title'].str.endswith('RALLS, MO')]\n",
    "data=data[~data['area_title'].str.endswith('RAPPAHANNOCK, VA')]\n",
    "data=data[~data['area_title'].str.endswith('RICHLAND, IL')]\n",
    "data=data[~data['area_title'].str.endswith('RICHMOND, VA')]\n",
    "data=data[~data['area_title'].str.endswith('ROBERTSON, KY')]\n",
    "data=data[~data['area_title'].str.endswith('ROCKBRIDGE, VA')]\n",
    "data=data[~data['area_title'].str.endswith('SAN JUAN, CO')]\n",
    "data=data[~data['area_title'].str.endswith('SCHLEICHER, TX')]\n",
    "data=data[~data['area_title'].str.endswith('SCHOOLCRAFT, MI')]\n",
    "data=data[~data['area_title'].str.endswith('SHARP, AR')]\n",
    "data=data[~data['area_title'].str.endswith('SHERMAN, KS')]\n",
    "data=data[~data['area_title'].str.endswith('SHERMAN, OR')]\n",
    "data=data[~data['area_title'].str.endswith('SIERRA, NM')]\n",
    "data=data[~data['area_title'].str.endswith('SLOPE, ND')]\n",
    "data=data[~data['area_title'].str.endswith('ST. LOU, MO')]\n",
    "data=data[~data['area_title'].str.endswith('STANTON, KS')]\n",
    "data=data[~data['area_title'].str.endswith('STE. GENEVIEVE, MO')]\n",
    "data=data[~data['area_title'].str.endswith('STEWART, GA')]\n",
    "data=data[~data['area_title'].str.endswith('SUSSEX, VA')]\n",
    "data=data[~data['area_title'].str.endswith('TALLAHATCHIE, MS')]\n",
    "data=data[~data['area_title'].str.endswith('TELFAIR, GA')]\n",
    "data=data[~data['area_title'].str.endswith('TREGO, KS')]\n",
    "data=data[~data['area_title'].str.endswith('TROUSDALE, TN')]\n",
    "data=data[~data['area_title'].str.endswith('TWIGGS, GA')]\n",
    "data=data[~data['area_title'].str.endswith('TYRRELL, NC')]\n",
    "data=data[~data['area_title'].str.endswith('UPTON, TX')]\n",
    "data=data[~data['area_title'].str.endswith('VAN BUREN, TN')]\n",
    "data=data[~data['area_title'].str.endswith('WARREN, GA')]\n",
    "data=data[~data['area_title'].str.endswith('WASHINGTON, NC')]\n",
    "data=data[~data['area_title'].str.endswith('WAYNE, TN')]\n",
    "data=data[~data['area_title'].str.endswith('WILKINSON, GA')]\n",
    "data=data[~data['area_title'].str.endswith('WILKINSON, MS')]\n",
    "data=data[~data['area_title'].str.endswith('WILLIAMSBU, VA')]\n",
    "data=data[~data['area_title'].str.endswith('WOODSON, KS')]\n",
    "data=data[~data['area_title'].str.endswith('DOLORES, CO')]"
   ]
  },
  {
   "cell_type": "code",
   "execution_count": 822,
   "id": "a52f5794",
   "metadata": {},
   "outputs": [],
   "source": [
    "data.to_csv('/Users/caseycloutier/Desktop/ECO688/Cleaned Data/data.csv')"
   ]
  },
  {
   "cell_type": "code",
   "execution_count": null,
   "id": "1203fea0",
   "metadata": {},
   "outputs": [],
   "source": []
  }
 ],
 "metadata": {
  "kernelspec": {
   "display_name": "Python 3",
   "language": "python",
   "name": "python3"
  },
  "language_info": {
   "codemirror_mode": {
    "name": "ipython",
    "version": 3
   },
   "file_extension": ".py",
   "mimetype": "text/x-python",
   "name": "python",
   "nbconvert_exporter": "python",
   "pygments_lexer": "ipython3",
   "version": "3.8.8"
  }
 },
 "nbformat": 4,
 "nbformat_minor": 5
}
